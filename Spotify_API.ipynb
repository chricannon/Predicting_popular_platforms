{
  "nbformat": 4,
  "nbformat_minor": 0,
  "metadata": {
    "colab": {
      "provenance": [],
      "authorship_tag": "ABX9TyPMlY7hhZUEbdLlFGMA+jxs",
      "include_colab_link": true
    },
    "kernelspec": {
      "name": "python3",
      "display_name": "Python 3"
    },
    "language_info": {
      "name": "python"
    }
  },
  "cells": [
    {
      "cell_type": "markdown",
      "metadata": {
        "id": "view-in-github",
        "colab_type": "text"
      },
      "source": [
        "<a href=\"https://colab.research.google.com/github/chricannon/Predicting_popular_platforms/blob/main/Spotify_API.ipynb\" target=\"_parent\"><img src=\"https://colab.research.google.com/assets/colab-badge.svg\" alt=\"Open In Colab\"/></a>"
      ]
    },
    {
      "cell_type": "markdown",
      "source": [
        "Import Necessary Libraries."
      ],
      "metadata": {
        "id": "HZ0OOsxwKJn3"
      }
    },
    {
      "cell_type": "code",
      "execution_count": null,
      "metadata": {
        "colab": {
          "base_uri": "https://localhost:8080/"
        },
        "id": "GmdksisiIX22",
        "outputId": "b4637f0c-06a4-406a-ff74-58b883931801"
      },
      "outputs": [
        {
          "output_type": "stream",
          "name": "stdout",
          "text": [
            "Requirement already satisfied: spotipy in /usr/local/lib/python3.10/dist-packages (2.24.0)\n",
            "Requirement already satisfied: redis>=3.5.3 in /usr/local/lib/python3.10/dist-packages (from spotipy) (5.0.8)\n",
            "Requirement already satisfied: requests>=2.25.0 in /usr/local/lib/python3.10/dist-packages (from spotipy) (2.31.0)\n",
            "Requirement already satisfied: urllib3>=1.26.0 in /usr/local/lib/python3.10/dist-packages (from spotipy) (2.0.7)\n",
            "Requirement already satisfied: async-timeout>=4.0.3 in /usr/local/lib/python3.10/dist-packages (from redis>=3.5.3->spotipy) (4.0.3)\n",
            "Requirement already satisfied: charset-normalizer<4,>=2 in /usr/local/lib/python3.10/dist-packages (from requests>=2.25.0->spotipy) (3.3.2)\n",
            "Requirement already satisfied: idna<4,>=2.5 in /usr/local/lib/python3.10/dist-packages (from requests>=2.25.0->spotipy) (3.7)\n",
            "Requirement already satisfied: certifi>=2017.4.17 in /usr/local/lib/python3.10/dist-packages (from requests>=2.25.0->spotipy) (2024.7.4)\n"
          ]
        }
      ],
      "source": [
        "!pip install spotipy\n",
        "import spotipy\n",
        "from spotipy.oauth2 import SpotifyClientCredentials\n",
        "import pandas as pd\n",
        "import seaborn as sns\n",
        "import matplotlib.pyplot as plt"
      ]
    },
    {
      "cell_type": "markdown",
      "source": [
        "Client info to permit access to the API"
      ],
      "metadata": {
        "id": "TmR8wBQYKNPE"
      }
    },
    {
      "cell_type": "code",
      "source": [
        "client_id = '8878f484f2934df59df1c29c8730a060'\n",
        "client_secret = 'ebc8d4c0bc78458f8f270007038a9724'"
      ],
      "metadata": {
        "id": "-3K0soSLLW_z"
      },
      "execution_count": null,
      "outputs": []
    },
    {
      "cell_type": "markdown",
      "source": [
        "Authenticate"
      ],
      "metadata": {
        "id": "337GUBnfLaRe"
      }
    },
    {
      "cell_type": "code",
      "source": [
        "sp = spotipy.Spotify(client_credentials_manager=SpotifyClientCredentials(client_id, client_secret))\n"
      ],
      "metadata": {
        "id": "iyyqx05wLbFm"
      },
      "execution_count": null,
      "outputs": []
    },
    {
      "cell_type": "markdown",
      "source": [
        "Search artist John Summit"
      ],
      "metadata": {
        "id": "iMSSAs1FLnzt"
      }
    },
    {
      "cell_type": "code",
      "source": [
        "results = sp.search(q='John Summit', type='artist')\n",
        "artist_id = results['artists']['items'][0]['id']\n",
        "\n",
        "print(artist_id)"
      ],
      "metadata": {
        "colab": {
          "base_uri": "https://localhost:8080/"
        },
        "id": "ML6TpBrXLt1R",
        "outputId": "912d0ac0-fea5-43a7-a8e8-19dca399450c"
      },
      "execution_count": null,
      "outputs": [
        {
          "output_type": "stream",
          "name": "stdout",
          "text": [
            "7kNqXtgeIwFtelmRjWv205\n"
          ]
        }
      ]
    },
    {
      "cell_type": "markdown",
      "source": [
        "Initialize empty list to store track IDs"
      ],
      "metadata": {
        "id": "bI-i6LOcUEGg"
      }
    },
    {
      "cell_type": "code",
      "source": [
        "track_ids = []"
      ],
      "metadata": {
        "id": "57Szmz-XUGJX"
      },
      "execution_count": null,
      "outputs": []
    },
    {
      "cell_type": "markdown",
      "source": [
        "Searching for John Summit tracks"
      ],
      "metadata": {
        "id": "ks2ZpfWXSOER"
      }
    },
    {
      "cell_type": "code",
      "source": [
        "tracks = sp.search(q='artist: John Summit' + artist_id, type='track')\n",
        "track_items = tracks['tracks']['items']\n",
        "\n",
        "# Check and print details of the first few tracks to verify\n",
        "for idx, track in enumerate(track_items[:5]):\n",
        "    print(f\"{idx}: {track['name']} by {[artist['name'] for artist in track['artists']]}\")\n",
        "\n",
        "print(f\"Found {len(track_items)} tracks in the initial search.\")"
      ],
      "metadata": {
        "colab": {
          "base_uri": "https://localhost:8080/"
        },
        "id": "QrgyVKFKSQiU",
        "outputId": "c7204737-035e-4ee4-be2e-aa73880c1f57"
      },
      "execution_count": null,
      "outputs": [
        {
          "output_type": "stream",
          "name": "stdout",
          "text": [
            "0: Where You Are by ['John Summit', 'HAYLA']\n",
            "1: Shiver by ['John Summit', 'HAYLA']\n",
            "2: Better Than This by ['John Summit', 'Parachute Youth']\n",
            "3: Undo (feat. KOATES) by ['John Summit', 'KOATES']\n",
            "4: Make Me Feel by ['John Summit']\n",
            "Found 10 tracks in the initial search.\n"
          ]
        }
      ]
    },
    {
      "cell_type": "markdown",
      "source": [
        "Fetch additional tracks if available"
      ],
      "metadata": {
        "id": "DQQgnZm8S3F6"
      }
    },
    {
      "cell_type": "code",
      "source": [
        "# Filter tracks where John Summit is listed as an artist\n",
        "for track in track_items:\n",
        "    if any(artist['id'] == artist_id for artist in track['artists']):\n",
        "        track_ids.append(track['id'])\n",
        "\n",
        "\n",
        "# Print the number of tracks found in the initial search\n",
        "print(f\"Found {len(track_ids)} tracks in the initial search.\")"
      ],
      "metadata": {
        "colab": {
          "base_uri": "https://localhost:8080/"
        },
        "id": "IayJC3TuS5BY",
        "outputId": "93f7b766-9492-42b1-cac2-c1f32aca7323"
      },
      "execution_count": null,
      "outputs": [
        {
          "output_type": "stream",
          "name": "stdout",
          "text": [
            "Found 40 tracks in the initial search.\n"
          ]
        }
      ]
    },
    {
      "cell_type": "code",
      "source": [
        "# Fetch more tracks if available\n",
        "while 'tracks' in results and results['tracks']['next']:\n",
        "    results = sp.next(results['tracks']['next'])\n",
        "    if 'items' in results['tracks']:\n",
        "        track_items = results['tracks']['items']\n",
        "\n",
        "        # Filter tracks where John Summit is listed as an artist\n",
        "        for track in track_items:\n",
        "            if any(artist['id'] == artist_id for artist in track['artists']):\n",
        "                track_ids.append(track['id'])\n",
        "\n",
        "        # Print the number of tracks found in the new batch\n",
        "        print(f\"New batch of tracks found:\")\n",
        "        for idx, track in enumerate(track_items):\n",
        "            print(f\"{idx}: {track['name']} by {[artist['name'] for artist in track['artists']]}\")\n",
        "\n",
        "        print(f\"Total tracks found so far: {len(track_ids)}\")\n",
        "\n",
        "# Check and print details of the first few filtered tracks to verify\n",
        "for idx, track_id in enumerate(track_ids[:5]):\n",
        "    track = sp.track(track_id)\n",
        "    print(f\"{idx}: {track['name']} by {[artist['name'] for artist in track['artists']]}\")\n",
        "\n",
        "print(f\"Found a total of {len(track_ids)} tracks involving John Summit.\")"
      ],
      "metadata": {
        "colab": {
          "base_uri": "https://localhost:8080/"
        },
        "id": "ZipYbyIMVglS",
        "outputId": "ffddd7a0-24c3-49ad-d59c-2f88732e29ae"
      },
      "execution_count": null,
      "outputs": [
        {
          "output_type": "stream",
          "name": "stdout",
          "text": [
            "0: Where You Are by ['John Summit', 'HAYLA']\n",
            "1: Shiver by ['John Summit', 'HAYLA']\n",
            "2: Better Than This by ['John Summit', 'Parachute Youth']\n",
            "3: Undo (feat. KOATES) by ['John Summit', 'KOATES']\n",
            "4: Make Me Feel by ['John Summit']\n",
            "Found a total of 40 tracks involving John Summit.\n"
          ]
        }
      ]
    },
    {
      "cell_type": "markdown",
      "source": [
        "Fetch Detailed Information for All Tracks"
      ],
      "metadata": {
        "id": "QntRyucDVlCv"
      }
    }
  ]
}